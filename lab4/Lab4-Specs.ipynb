{
 "cells": [
  {
   "cell_type": "markdown",
   "metadata": {},
   "source": [
    "# COMP9318 Lab4"
   ]
  },
  {
   "cell_type": "markdown",
   "metadata": {},
   "source": [
    "## Instructions\n",
    "1. This note book contains instructions for **COMP9318-Lab4**.\n",
    "\n",
    "* You are required to complete your implementation in a file `submission.py` provided along with this notebook.\n",
    "\n",
    "* You are not allowed to print out unnecessary stuff. We will not consider any output printed out on the screen. All results should be returned in appropriate data structures via corresponding functions.\n",
    "\n",
    "* You can submit your implementation for **Lab4** via following link: https://kg.cse.unsw.edu.au/submit/ .\n",
    "\n",
    "* For each question, we have provided you with detailed instructions along with question headings. In case of any problem, you can post your query @ Piazza.\n",
    "\n",
    "* You are allowed to add other functions and/or import modules (you may have to in this lab), but you are not allowed to define global variables. **Only functions are allowed** in `submission.py`. \n",
    "\n",
    "* You should not import unnecessary modules/libraries, failing to import such modules at test time will lead to errors.\n",
    "\n",
    "* We will provide immediate feedback on your submission. You can access your scores using the online submission portal on the same day. \n",
    "\n",
    "* For **Final Evaluation** we will be using a different dataset, so your final scores may vary.  \n",
    "\n",
    "* You are allowed to submit as many times as you want before the deadline, but **ONLY the latest version will be kept and marked**.\n",
    "\n",
    "* Submission deadline for this assignment is **20:59:59 on 20th April, 2020 (SYDNEY TIME)**. We will **not** accept any late submissions."
   ]
  },
  {
   "cell_type": "markdown",
   "metadata": {},
   "source": [
    "# Question-1: Text Classification using Multinomial Naive Bayes\n",
    "\n",
    "You are required to implement a multinomial naive bayes classifier to predict spam SMS.\n",
    "\n",
    "The training data is a set of SMS categoried into `spam` and `ham`."
   ]
  },
  {
   "cell_type": "code",
   "execution_count": 1,
   "metadata": {
    "scrolled": true
   },
   "outputs": [
    {
     "data": {
      "text/html": [
       "<div>\n",
       "<style scoped>\n",
       "    .dataframe tbody tr th:only-of-type {\n",
       "        vertical-align: middle;\n",
       "    }\n",
       "\n",
       "    .dataframe tbody tr th {\n",
       "        vertical-align: top;\n",
       "    }\n",
       "\n",
       "    .dataframe thead th {\n",
       "        text-align: right;\n",
       "    }\n",
       "</style>\n",
       "<table border=\"1\" class=\"dataframe\">\n",
       "  <thead>\n",
       "    <tr style=\"text-align: right;\">\n",
       "      <th></th>\n",
       "      <th>category</th>\n",
       "      <th>text</th>\n",
       "    </tr>\n",
       "  </thead>\n",
       "  <tbody>\n",
       "    <tr>\n",
       "      <th>0</th>\n",
       "      <td>ham</td>\n",
       "      <td>Go until jurong point, crazy.. Available only ...</td>\n",
       "    </tr>\n",
       "    <tr>\n",
       "      <th>1</th>\n",
       "      <td>ham</td>\n",
       "      <td>Ok lar... Joking wif u oni...</td>\n",
       "    </tr>\n",
       "    <tr>\n",
       "      <th>2</th>\n",
       "      <td>spam</td>\n",
       "      <td>Free entry in 2 a wkly comp to win FA Cup fina...</td>\n",
       "    </tr>\n",
       "    <tr>\n",
       "      <th>3</th>\n",
       "      <td>ham</td>\n",
       "      <td>U dun say so early hor... U c already then say...</td>\n",
       "    </tr>\n",
       "    <tr>\n",
       "      <th>4</th>\n",
       "      <td>ham</td>\n",
       "      <td>Nah I don't think he goes to usf, he lives aro...</td>\n",
       "    </tr>\n",
       "  </tbody>\n",
       "</table>\n",
       "</div>"
      ],
      "text/plain": [
       "  category                                               text\n",
       "0      ham  Go until jurong point, crazy.. Available only ...\n",
       "1      ham                      Ok lar... Joking wif u oni...\n",
       "2     spam  Free entry in 2 a wkly comp to win FA Cup fina...\n",
       "3      ham  U dun say so early hor... U c already then say...\n",
       "4      ham  Nah I don't think he goes to usf, he lives aro..."
      ]
     },
     "execution_count": 1,
     "metadata": {},
     "output_type": "execute_result"
    }
   ],
   "source": [
    "import pandas as pd\n",
    "\n",
    "raw_data = pd.read_csv('./asset/data.txt', sep='\\t')\n",
    "raw_data.head()"
   ]
  },
  {
   "cell_type": "markdown",
   "metadata": {},
   "source": [
    "In order to implement a unigram model, first we tokenize the text. We use the count corresponding to each token (word) in the SMS as its feature (i.e., bag of words). We store the features and catrgorical information for each SMS in a `dictionary`."
   ]
  },
  {
   "cell_type": "code",
   "execution_count": 5,
   "metadata": {},
   "outputs": [
    {
     "data": {
      "text/plain": [
       "[({'Available': 1,\n",
       "   'Cine': 1,\n",
       "   'Go': 1,\n",
       "   'amore': 1,\n",
       "   'buffet...': 1,\n",
       "   'bugis': 1,\n",
       "   'crazy..': 1,\n",
       "   'e': 1,\n",
       "   'got': 1,\n",
       "   'great': 1,\n",
       "   'in': 1,\n",
       "   'jurong': 1,\n",
       "   'la': 1,\n",
       "   'n': 1,\n",
       "   'only': 1,\n",
       "   'point,': 1,\n",
       "   'there': 1,\n",
       "   'until': 1,\n",
       "   'wat...': 1,\n",
       "   'world': 1},\n",
       "  'ham'),\n",
       " ({'Joking': 1, 'Ok': 1, 'lar...': 1, 'oni...': 1, 'u': 1, 'wif': 1}, 'ham'),\n",
       " ({\"08452810075over18's\": 1,\n",
       "   '2': 1,\n",
       "   '2005.': 1,\n",
       "   '21st': 1,\n",
       "   '87121': 1,\n",
       "   'Cup': 1,\n",
       "   'FA': 2,\n",
       "   'Free': 1,\n",
       "   'May': 1,\n",
       "   'Text': 1,\n",
       "   'a': 1,\n",
       "   'apply': 1,\n",
       "   'comp': 1,\n",
       "   'entry': 2,\n",
       "   'final': 1,\n",
       "   'in': 1,\n",
       "   'question(std': 1,\n",
       "   \"rate)T&C's\": 1,\n",
       "   'receive': 1,\n",
       "   'tkts': 1,\n",
       "   'to': 3,\n",
       "   'txt': 1,\n",
       "   'win': 1,\n",
       "   'wkly': 1},\n",
       "  'spam'),\n",
       " ({'U': 2,\n",
       "   'already': 1,\n",
       "   'c': 1,\n",
       "   'dun': 1,\n",
       "   'early': 1,\n",
       "   'hor...': 1,\n",
       "   'say': 1,\n",
       "   'say...': 1,\n",
       "   'so': 1,\n",
       "   'then': 1},\n",
       "  'ham'),\n",
       " ({'I': 1,\n",
       "   'Nah': 1,\n",
       "   'around': 1,\n",
       "   \"don't\": 1,\n",
       "   'goes': 1,\n",
       "   'he': 2,\n",
       "   'here': 1,\n",
       "   'lives': 1,\n",
       "   'think': 1,\n",
       "   'though': 1,\n",
       "   'to': 1,\n",
       "   'usf,': 1},\n",
       "  'ham'),\n",
       " ({'3': 1,\n",
       "   'FreeMsg': 1,\n",
       "   'Hey': 1,\n",
       "   \"I'd\": 1,\n",
       "   'Tb': 1,\n",
       "   'XxX': 1,\n",
       "   'and': 1,\n",
       "   'back!': 1,\n",
       "   'been': 1,\n",
       "   'chgs': 1,\n",
       "   'darling': 1,\n",
       "   'for': 1,\n",
       "   'fun': 1,\n",
       "   'it': 1,\n",
       "   \"it's\": 1,\n",
       "   'like': 1,\n",
       "   'no': 1,\n",
       "   'now': 1,\n",
       "   'ok!': 1,\n",
       "   'rcv': 1,\n",
       "   'send,': 1,\n",
       "   'some': 1,\n",
       "   'std': 1,\n",
       "   'still?': 1,\n",
       "   'there': 1,\n",
       "   'to': 2,\n",
       "   'up': 1,\n",
       "   \"week's\": 1,\n",
       "   'word': 1,\n",
       "   'you': 1,\n",
       "   '£1.50': 1},\n",
       "  'spam')]"
      ]
     },
     "execution_count": 5,
     "metadata": {},
     "output_type": "execute_result"
    }
   ],
   "source": [
    "def tokenize(sms):\n",
    "    return sms.split(' ')\n",
    "\n",
    "def get_freq_of_tokens(sms):\n",
    "    tokens = {}\n",
    "    for token in tokenize(sms):\n",
    "        if token not in tokens:\n",
    "            tokens[token] = 1\n",
    "        else:\n",
    "            tokens[token] += 1\n",
    "    return tokens\n",
    "\n",
    "training_data = []\n",
    "for index in range(len(raw_data)):\n",
    "    training_data.append((get_freq_of_tokens(raw_data.iloc[index].text), raw_data.iloc[index].category))\n",
    "training_data"
   ]
  },
  {
   "cell_type": "markdown",
   "metadata": {},
   "source": [
    "For this lab, you need to **implement** a multinomial naive bayes classifier (i.e., `multinomial_nb()` in the file: `submission.py`) with add-1 smoothing. The input arguments of `multinomial_nb()` are:\n",
    "* `training_data`: pre-processed data stored as a `dictionary`\n",
    "* `sms`: test-sms (i.e., a list of tokens) that you need to categorize as `spam` and/or `ham`\n",
    "\n",
    "The return value of `multinomial_nb()` should be the **ratio** of the probability of sms is spam and the probability of sms is ham. A return value larger than 1 implies the `sms` is spam and vice versa.\n",
    "\n",
    "For example, a sample output is shown in the cell given below:"
   ]
  },
  {
   "cell_type": "code",
   "execution_count": 4,
   "metadata": {
    "scrolled": true
   },
   "outputs": [
    {
     "name": "stdout",
     "output_type": "stream",
     "text": [
      "0.23427672955974838\n"
     ]
    }
   ],
   "source": [
    "## How we test your implementation...\n",
    "import submission as submission\n",
    "\n",
    "sms = 'I am not spam'\n",
    "print(submission.multinomial_nb(training_data, tokenize(sms)))"
   ]
  },
  {
   "cell_type": "markdown",
   "metadata": {},
   "source": [
    "\n",
    "\n",
    "# Test Environment\n",
    "\n",
    "For testing, we have pre-installed the requisite modules and/or libraries in the testing environment. You are only allowed to use following libraries:\n",
    "* python: 3.6.5\n",
    "* pandas: 0.19.2\n",
    "\n",
    "NOTE: You are required to implement the classifier by yourself. You are not allowed to import **sklearn** and/or any other library in Lab4."
   ]
  },
  {
   "cell_type": "code",
   "execution_count": null,
   "metadata": {},
   "outputs": [],
   "source": []
  }
 ],
 "metadata": {
  "kernelspec": {
   "display_name": "Python 3",
   "language": "python",
   "name": "python3"
  },
  "language_info": {
   "codemirror_mode": {
    "name": "ipython",
    "version": 3
   },
   "file_extension": ".py",
   "mimetype": "text/x-python",
   "name": "python",
   "nbconvert_exporter": "python",
   "pygments_lexer": "ipython3",
   "version": "3.6.10"
  }
 },
 "nbformat": 4,
 "nbformat_minor": 2
}
